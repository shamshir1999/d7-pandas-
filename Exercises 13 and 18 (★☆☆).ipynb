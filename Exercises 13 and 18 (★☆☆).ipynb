{
 "cells": [
  {
   "cell_type": "code",
   "execution_count": 32,
   "id": "comic-license",
   "metadata": {},
   "outputs": [],
   "source": [
    "import pandas as pd\n",
    "data = {'animal': ['cat', 'cat', 'snake', 'dog', 'dog', 'cat', 'snake', 'cat', 'dog', 'dog'],\n",
    "        'age': [2.5, 3, 0.5, np.nan, 5, 2, 4.5, np.nan, 7, 3],\n",
    "        'visits': [1, 3, 2, 3, 2, 3, 1, 1, 2, 1],\n",
    "        'priority': ['yes', 'yes', 'no', 'yes', 'no', 'no', 'no', 'yes', 'no', 'no']}\n",
    "\n",
    "labels = ['a', 'b', 'c', 'd', 'e', 'f', 'g', 'h', 'i', 'j']\n",
    "df = pd.DataFrame(data)\n"
   ]
  },
  {
   "cell_type": "markdown",
   "id": "after-lithuania",
   "metadata": {},
   "source": [
    "**13. Change the age in row 'f' to 1.5.**"
   ]
  },
  {
   "cell_type": "code",
   "execution_count": 33,
   "id": "supported-bicycle",
   "metadata": {},
   "outputs": [
    {
     "output_type": "stream",
     "name": "stdout",
     "text": [
      "  animal  age  visits priority\n0    cat  2.5       1      yes\n1    cat  3.0       3      yes\n2  snake  0.5       2       no\n3    dog  NaN       3      yes\n4    dog  5.0       2       no\n5    cat  2.0       3       no\n6  snake  4.5       1       no\n7    cat  NaN       1      yes\n8    dog  7.0       2       no\n9    dog  3.0       1       no\n"
     ]
    }
   ],
   "source": [
    "\n",
    "df.describe()\n",
    "print(df)"
   ]
  },
  {
   "cell_type": "markdown",
   "id": "severe-count",
   "metadata": {},
   "source": [
    "**18. Sort df first by the values in the 'age' in decending order, then by the value in the 'visit' column in ascending order.**"
   ]
  },
  {
   "cell_type": "code",
   "execution_count": 52,
   "id": "czech-superior",
   "metadata": {},
   "outputs": [
    {
     "output_type": "stream",
     "name": "stdout",
     "text": [
      "   age\n0    1\n3    2\n5    2\n1    3\n6    4\n2    5\n7    6\n8    7\n4    8\n9    9\n"
     ]
    }
   ],
   "source": [
    "import pandas as pd\n",
    "data = {'animal': ['cat', 'cat', 'snake', 'dog', 'dog', 'cat', 'snake', 'cat', 'dog', 'dog'],\n",
    "        'age': [1, 3, 5, 2, 8, 2, 4, 6, 7, 9],\n",
    "       }\n",
    "   \n",
    "df = pd.DataFrame(data, columns= ['age'])\n",
    "\n",
    "# sort animal - decending order\n",
    "df.sort_values(by=['age'], inplace=True)\n",
    "print(df)"
   ]
  },
  {
   "cell_type": "code",
   "execution_count": null,
   "metadata": {},
   "outputs": [],
   "source": []
  }
 ],
 "metadata": {
  "kernelspec": {
   "display_name": "Python 3",
   "language": "python",
   "name": "python3"
  },
  "language_info": {
   "codemirror_mode": {
    "name": "ipython",
    "version": 3
   },
   "file_extension": ".py",
   "mimetype": "text/x-python",
   "name": "python",
   "nbconvert_exporter": "python",
   "pygments_lexer": "ipython3",
   "version": "3.8.5-final"
  }
 },
 "nbformat": 4,
 "nbformat_minor": 5
}